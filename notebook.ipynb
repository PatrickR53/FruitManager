{
 "cells": [
  {
   "cell_type": "code",
   "execution_count": 1,
   "id": "2692a934",
   "metadata": {},
   "outputs": [],
   "source": [
    "inventaire = {\n",
    "    \"bananes\" : 120,\n",
    "    \"mangues\" : 35,\n",
    "    \"ananas\" : 45,\n",
    "    \"noix de coco\" : 60,\n",
    "    \"papayes\" : 30\n",
    "}"
   ]
  },
  {
   "cell_type": "code",
   "execution_count": 2,
   "id": "b1b80f8e",
   "metadata": {},
   "outputs": [],
   "source": [
    "def afficher_inventaire(inventaire):\n",
    "    print(\"inventaire actuel de la plantation\")\n",
    "    for fruit, quantite in inventaire.items():\n",
    "        print(f\"- {fruit.capitalize()} : {quantite} unités\")"
   ]
  },
  {
   "cell_type": "code",
   "execution_count": null,
   "id": "6a3f7f57",
   "metadata": {},
   "outputs": [],
   "source": [
    "def recolter(inventaire, fruit, quantite):\n",
    "    inventaire[fruit] = inventaire.get(fruit, 0) + quantite\n",
    "    print(f\"\\n ✅ Récolté {quantite} {fruit} supplémentaire(s) !\")\n",
    "    "
   ]
  },
  {
   "cell_type": "code",
   "execution_count": 8,
   "id": "2ca97d46",
   "metadata": {},
   "outputs": [
    {
     "name": "stdout",
     "output_type": "stream",
     "text": [
      "\n",
      " ✅ Récolté 10 bananes supplémentaire(s) !\n"
     ]
    }
   ],
   "source": [
    "recolter(inventaire, \"bananes\", 10)"
   ]
  },
  {
   "cell_type": "code",
   "execution_count": 29,
   "id": "8ab69af9",
   "metadata": {},
   "outputs": [],
   "source": [
    "def vendre(inventaire, fruit, quantite):\n",
    "    if inventaire.get(fruit, 0) >= quantite:\n",
    "        inventaire[fruit] -= quantite\n",
    "        print(f\"\\n 💰 Vendu {quantite} {fruit} !\")\n",
    "    else:\n",
    "        print(f\"\\n 🚨 quantite insuffisante de {fruit} pour vendre {quantite} unité(s) !\")"
   ]
  },
  {
   "cell_type": "code",
   "execution_count": 31,
   "id": "66684951",
   "metadata": {},
   "outputs": [
    {
     "name": "stdout",
     "output_type": "stream",
     "text": [
      "inventaire actuel de la plantation\n",
      "- Bananes : 140 unités\n",
      "- Mangues : 20 unités\n",
      "- Ananas : 45 unités\n",
      "- Noix de coco : 30 unités\n",
      "- Papayes : 30 unités\n"
     ]
    }
   ],
   "source": [
    "afficher_inventaire(inventaire)"
   ]
  },
  {
   "cell_type": "code",
   "execution_count": 30,
   "id": "b6368b2c",
   "metadata": {},
   "outputs": [
    {
     "name": "stdout",
     "output_type": "stream",
     "text": [
      "\n",
      " 💰 Vendu 15 mangues !\n"
     ]
    }
   ],
   "source": [
    "vendre(inventaire,\"mangues\",15)"
   ]
  }
 ],
 "metadata": {
  "kernelspec": {
   "display_name": "base",
   "language": "python",
   "name": "python3"
  },
  "language_info": {
   "codemirror_mode": {
    "name": "ipython",
    "version": 3
   },
   "file_extension": ".py",
   "mimetype": "text/x-python",
   "name": "python",
   "nbconvert_exporter": "python",
   "pygments_lexer": "ipython3",
   "version": "3.12.7"
  }
 },
 "nbformat": 4,
 "nbformat_minor": 5
}
