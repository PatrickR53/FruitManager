{
 "cells": [
  {
   "cell_type": "code",
   "execution_count": 3,
   "id": "2692a934",
   "metadata": {},
   "outputs": [],
   "source": [
    "inventaire = {\n",
    "    \"bananes\" : 120,\n",
    "    \"mangues\" : 35,\n",
    "    \"ananas\" : 45,\n",
    "    \"noix de coco\" : 60,\n",
    "    \"papayes\" : 30\n",
    "}"
   ]
  },
  {
   "cell_type": "code",
   "execution_count": 6,
   "id": "b1b80f8e",
   "metadata": {},
   "outputs": [],
   "source": [
    "def afficher_inventaire(inventaire):\n",
    "    print(\"inventaire actuel de la plantation\")\n",
    "    for fruit, quantite in inventaire.items():\n",
    "        print(f\"- {fruit.capitalize()} : {quantite} unités\")"
   ]
  },
  {
   "cell_type": "code",
   "execution_count": 7,
   "id": "2ca97d46",
   "metadata": {},
   "outputs": [
    {
     "name": "stdout",
     "output_type": "stream",
     "text": [
      "inventaire actuel de la plantation\n",
      "- Bananes : 120 unités\n",
      "- Mangues : 35 unités\n",
      "- Ananas : 45 unités\n",
      "- Noix de coco : 60 unités\n",
      "- Papayes : 30 unités\n"
     ]
    }
   ],
   "source": [
    "afficher_inventaire(inventaire)"
   ]
  }
 ],
 "metadata": {
  "kernelspec": {
   "display_name": "base",
   "language": "python",
   "name": "python3"
  },
  "language_info": {
   "codemirror_mode": {
    "name": "ipython",
    "version": 3
   },
   "file_extension": ".py",
   "mimetype": "text/x-python",
   "name": "python",
   "nbconvert_exporter": "python",
   "pygments_lexer": "ipython3",
   "version": "3.12.7"
  }
 },
 "nbformat": 4,
 "nbformat_minor": 5
}
