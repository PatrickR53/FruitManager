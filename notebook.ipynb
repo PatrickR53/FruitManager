{
 "cells": [
  {
   "cell_type": "code",
   "execution_count": 3,
   "id": "2692a934",
   "metadata": {},
   "outputs": [],
   "source": [
    "inventaire = {\n",
    "    \"bananes\" : 120,\n",
    "    \"mangues\" : 35,\n",
    "    \"ananas\" : 45,\n",
    "    \"noix de coco\" : 60,\n",
    "    \"papayes\" : 30\n",
    "}"
   ]
  },
  {
   "cell_type": "code",
   "execution_count": 6,
   "id": "b1b80f8e",
   "metadata": {},
   "outputs": [],
   "source": [
    "def afficher_inventaire(inventaire):\n",
    "    print(\"inventaire actuel de la plantation\")\n",
    "    for fruit, quantite in inventaire.items():\n",
    "        print(f\"- {fruit.capitalize()} : {quantite} unités\")"
   ]
  },
  {
   "cell_type": "code",
   "execution_count": 11,
   "id": "6a3f7f57",
   "metadata": {},
   "outputs": [],
   "source": [
    "def recolter(inventaire, fruit, quantite):\n",
    "    inventaire[fruit] = inventaire.get(fruit, 0) + quantite\n",
    "    print(f\"\\n + Récolté {quantite} {fruit} supplémentaire(s) !\")"
   ]
  },
  {
   "cell_type": "code",
   "execution_count": 13,
   "id": "2ca97d46",
   "metadata": {},
   "outputs": [
    {
     "name": "stdout",
     "output_type": "stream",
     "text": [
      "\n",
      " + Récolté 10 bananes supplémentaire(s) !\n"
     ]
    }
   ],
   "source": [
    "recolter(inventaire, \"bananes\", 10)"
   ]
  },
  {
   "cell_type": "code",
   "execution_count": 14,
   "id": "66684951",
   "metadata": {},
   "outputs": [
    {
     "name": "stdout",
     "output_type": "stream",
     "text": [
      "inventaire actuel de la plantation\n",
      "- Bananes : 140 unités\n",
      "- Mangues : 35 unités\n",
      "- Ananas : 45 unités\n",
      "- Noix de coco : 60 unités\n",
      "- Papayes : 30 unités\n"
     ]
    }
   ],
   "source": [
    "afficher_inventaire(inventaire)"
   ]
  }
 ],
 "metadata": {
  "kernelspec": {
   "display_name": "base",
   "language": "python",
   "name": "python3"
  },
  "language_info": {
   "codemirror_mode": {
    "name": "ipython",
    "version": 3
   },
   "file_extension": ".py",
   "mimetype": "text/x-python",
   "name": "python",
   "nbconvert_exporter": "python",
   "pygments_lexer": "ipython3",
   "version": "3.12.7"
  }
 },
 "nbformat": 4,
 "nbformat_minor": 5
}
